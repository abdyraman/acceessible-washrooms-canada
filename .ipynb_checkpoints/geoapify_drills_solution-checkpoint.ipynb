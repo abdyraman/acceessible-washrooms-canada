{
 "cells": [
  {
   "cell_type": "markdown",
   "metadata": {},
   "source": [
    "# Geoapify Data on Accessible Washrooms\n",
    "\n"
   ]
  },
  {
   "cell_type": "code",
   "execution_count": 1,
   "metadata": {},
   "outputs": [],
   "source": [
    "# Dependencies\n",
    "import requests\n",
    "import json\n",
    "import pandas as pd\n",
    "# Import the API key\n",
    "from config import geoapify_key"
   ]
  },
  {
   "cell_type": "markdown",
   "metadata": {},
   "source": [
    "## 1. What are the geocoordinates (latitude and longitude) of Brisbane, Australia?"
   ]
  },
  {
   "cell_type": "code",
   "execution_count": 12,
   "metadata": {},
   "outputs": [],
   "source": [
    "# Construct the final URL\n",
    "lang=\"en\"\n",
    "limit=\"100\"\n",
    "\n",
    "city_name=['512c13d96292d853c0596a04d149a5d34540f00101f90173f2040000000000c00208',\n",
    "'5116a3aeb5776452c0591ef6e74768c04640f00101f9016eef180000000000c00208','51155454fd4ac75ec059ea364d4464a14840f00101f9019e441c0000000000c00208']\n",
    "\n",
    "districts = []\n",
    "address = []\n",
    "postcodes = []\n",
    "latitudes = []\n",
    "longitudes = []\n",
    "cities=[]\n",
    "names = []\n",
    "    \n",
    "for city in city_name:\n",
    "    url = f'https://api.geoapify.com/v2/places?categories=amenity.toilet,building.toilet&conditions=wheelchair,wheelchair.yes&filter={city}&lang={lang}&limit={limit}&apiKey={geoapify_key}'\n",
    "    response = requests.get(url).json()\n",
    "\n",
    "    for place in response[\"features\"]:\n",
    "        properties = place.get(\"properties\", {})\n",
    "\n",
    "        # Check if the key \"district\" exists in the \"properties\" dictionary\n",
    "        district = properties.get(\"district\", \"N/A\")\n",
    "        formatted = properties.get(\"formatted\", \"N/A\")\n",
    "        postcode = properties.get(\"postcode\", \"N/A\")\n",
    "        latitude = properties.get(\"lat\", \"N/A\")\n",
    "        longitude = properties.get(\"lon\", \"N/A\")\n",
    "        name = properties.get(\"name\", \"N/A\")\n",
    "        city = properties.get(\"city\", \"N/A\")\n",
    "\n",
    "        districts.append(district)\n",
    "        address.append(formatted)\n",
    "        postcodes.append(postcode)\n",
    "        latitudes.append(latitude)\n",
    "        longitudes.append(longitude)  \n",
    "        cities.append(city)\n",
    "        names.append(name)\n",
    "\n"
   ]
  },
  {
   "cell_type": "code",
   "execution_count": 13,
   "metadata": {},
   "outputs": [
    {
     "data": {
      "text/html": [
       "<div>\n",
       "<style scoped>\n",
       "    .dataframe tbody tr th:only-of-type {\n",
       "        vertical-align: middle;\n",
       "    }\n",
       "\n",
       "    .dataframe tbody tr th {\n",
       "        vertical-align: top;\n",
       "    }\n",
       "\n",
       "    .dataframe thead th {\n",
       "        text-align: right;\n",
       "    }\n",
       "</style>\n",
       "<table border=\"1\" class=\"dataframe\">\n",
       "  <thead>\n",
       "    <tr style=\"text-align: right;\">\n",
       "      <th></th>\n",
       "      <th>Districts</th>\n",
       "      <th>Address</th>\n",
       "      <th>Postcode</th>\n",
       "      <th>Lat</th>\n",
       "      <th>Lon</th>\n",
       "      <th>Names</th>\n",
       "      <th>Cities</th>\n",
       "    </tr>\n",
       "  </thead>\n",
       "  <tbody>\n",
       "    <tr>\n",
       "      <th>0</th>\n",
       "      <td>North York</td>\n",
       "      <td>E.T. Seton Washrooms, Don Trail, Toronto, ON M...</td>\n",
       "      <td>M3C 1B2</td>\n",
       "      <td>43.709441</td>\n",
       "      <td>-79.337400</td>\n",
       "      <td>E.T. Seton Washrooms</td>\n",
       "      <td>Toronto</td>\n",
       "    </tr>\n",
       "    <tr>\n",
       "      <th>1</th>\n",
       "      <td>N/A</td>\n",
       "      <td>Wanless park Tennis Association - Summer Only,...</td>\n",
       "      <td>M4N 1T2</td>\n",
       "      <td>43.728868</td>\n",
       "      <td>-79.391983</td>\n",
       "      <td>Wanless park Tennis Association - Summer Only</td>\n",
       "      <td>Old Toronto</td>\n",
       "    </tr>\n",
       "    <tr>\n",
       "      <th>2</th>\n",
       "      <td>Lawrence Park</td>\n",
       "      <td>Locke library public toilet, 3083 Yonge Street...</td>\n",
       "      <td>M4N 2K7</td>\n",
       "      <td>43.724901</td>\n",
       "      <td>-79.401732</td>\n",
       "      <td>Locke library public toilet</td>\n",
       "      <td>Old Toronto</td>\n",
       "    </tr>\n",
       "    <tr>\n",
       "      <th>3</th>\n",
       "      <td>Financial District</td>\n",
       "      <td>Females, 77 King Street West, Old Toronto, ON ...</td>\n",
       "      <td>M5X 1B1</td>\n",
       "      <td>43.647843</td>\n",
       "      <td>-79.381897</td>\n",
       "      <td>Females</td>\n",
       "      <td>Old Toronto</td>\n",
       "    </tr>\n",
       "    <tr>\n",
       "      <th>4</th>\n",
       "      <td>Financial District</td>\n",
       "      <td>Males, 77 King Street West, Old Toronto, ON M5...</td>\n",
       "      <td>M5X 1B1</td>\n",
       "      <td>43.647901</td>\n",
       "      <td>-79.382080</td>\n",
       "      <td>Males</td>\n",
       "      <td>Old Toronto</td>\n",
       "    </tr>\n",
       "    <tr>\n",
       "      <th>...</th>\n",
       "      <td>...</td>\n",
       "      <td>...</td>\n",
       "      <td>...</td>\n",
       "      <td>...</td>\n",
       "      <td>...</td>\n",
       "      <td>...</td>\n",
       "      <td>...</td>\n",
       "    </tr>\n",
       "    <tr>\n",
       "      <th>136</th>\n",
       "      <td>Yaletown</td>\n",
       "      <td>701 West Georgia Street, Vancouver, BC V7Y 1G5...</td>\n",
       "      <td>V7Y 1G5</td>\n",
       "      <td>49.283201</td>\n",
       "      <td>-123.117626</td>\n",
       "      <td>N/A</td>\n",
       "      <td>Vancouver</td>\n",
       "    </tr>\n",
       "    <tr>\n",
       "      <th>137</th>\n",
       "      <td>Yaletown</td>\n",
       "      <td>Smithe Street, Vancouver, BC V6B, Canada</td>\n",
       "      <td>V6B</td>\n",
       "      <td>49.279043</td>\n",
       "      <td>-123.119002</td>\n",
       "      <td>N/A</td>\n",
       "      <td>Vancouver</td>\n",
       "    </tr>\n",
       "    <tr>\n",
       "      <th>138</th>\n",
       "      <td>Yaletown</td>\n",
       "      <td>Smithe Street, Vancouver, BC V6B, Canada</td>\n",
       "      <td>V6B</td>\n",
       "      <td>49.279041</td>\n",
       "      <td>-123.118974</td>\n",
       "      <td>N/A</td>\n",
       "      <td>Vancouver</td>\n",
       "    </tr>\n",
       "    <tr>\n",
       "      <th>139</th>\n",
       "      <td>N/A</td>\n",
       "      <td>801 West 22nd Avenue, Vancouver, BC V5Z, Canada</td>\n",
       "      <td>V5Z</td>\n",
       "      <td>49.251929</td>\n",
       "      <td>-123.122450</td>\n",
       "      <td>N/A</td>\n",
       "      <td>Vancouver</td>\n",
       "    </tr>\n",
       "    <tr>\n",
       "      <th>140</th>\n",
       "      <td>Granville Island</td>\n",
       "      <td>1669 Johnston Street, Vancouver, BC V6H 3R9, C...</td>\n",
       "      <td>V6H 3R9</td>\n",
       "      <td>49.272364</td>\n",
       "      <td>-123.134507</td>\n",
       "      <td>N/A</td>\n",
       "      <td>Vancouver</td>\n",
       "    </tr>\n",
       "  </tbody>\n",
       "</table>\n",
       "<p>141 rows × 7 columns</p>\n",
       "</div>"
      ],
      "text/plain": [
       "              Districts                                            Address  \\\n",
       "0            North York  E.T. Seton Washrooms, Don Trail, Toronto, ON M...   \n",
       "1                   N/A  Wanless park Tennis Association - Summer Only,...   \n",
       "2         Lawrence Park  Locke library public toilet, 3083 Yonge Street...   \n",
       "3    Financial District  Females, 77 King Street West, Old Toronto, ON ...   \n",
       "4    Financial District  Males, 77 King Street West, Old Toronto, ON M5...   \n",
       "..                  ...                                                ...   \n",
       "136            Yaletown  701 West Georgia Street, Vancouver, BC V7Y 1G5...   \n",
       "137            Yaletown           Smithe Street, Vancouver, BC V6B, Canada   \n",
       "138            Yaletown           Smithe Street, Vancouver, BC V6B, Canada   \n",
       "139                 N/A    801 West 22nd Avenue, Vancouver, BC V5Z, Canada   \n",
       "140    Granville Island  1669 Johnston Street, Vancouver, BC V6H 3R9, C...   \n",
       "\n",
       "    Postcode        Lat         Lon  \\\n",
       "0    M3C 1B2  43.709441  -79.337400   \n",
       "1    M4N 1T2  43.728868  -79.391983   \n",
       "2    M4N 2K7  43.724901  -79.401732   \n",
       "3    M5X 1B1  43.647843  -79.381897   \n",
       "4    M5X 1B1  43.647901  -79.382080   \n",
       "..       ...        ...         ...   \n",
       "136  V7Y 1G5  49.283201 -123.117626   \n",
       "137      V6B  49.279043 -123.119002   \n",
       "138      V6B  49.279041 -123.118974   \n",
       "139      V5Z  49.251929 -123.122450   \n",
       "140  V6H 3R9  49.272364 -123.134507   \n",
       "\n",
       "                                             Names       Cities  \n",
       "0                             E.T. Seton Washrooms      Toronto  \n",
       "1    Wanless park Tennis Association - Summer Only  Old Toronto  \n",
       "2                      Locke library public toilet  Old Toronto  \n",
       "3                                          Females  Old Toronto  \n",
       "4                                            Males  Old Toronto  \n",
       "..                                             ...          ...  \n",
       "136                                            N/A    Vancouver  \n",
       "137                                            N/A    Vancouver  \n",
       "138                                            N/A    Vancouver  \n",
       "139                                            N/A    Vancouver  \n",
       "140                                            N/A    Vancouver  \n",
       "\n",
       "[141 rows x 7 columns]"
      ]
     },
     "execution_count": 13,
     "metadata": {},
     "output_type": "execute_result"
    }
   ],
   "source": [
    "washrooms={\n",
    "    \"Districts\":districts,\n",
    "    \"Address\":address,\n",
    "    \"Postcode\":postcodes,\n",
    "     \"Lat\":latitudes,\n",
    "    \"Lon\":longitudes,\n",
    "    \"Names\":names,\n",
    "    \"Cities\":cities\n",
    "}\n",
    "washrooms_df=pd.DataFrame(washrooms)\n",
    "washrooms_df"
   ]
  },
  {
   "cell_type": "markdown",
   "metadata": {},
   "source": [
    "## 2. What are the geocoordinates (latitude and longitude) of The Sydney Opera House?"
   ]
  },
  {
   "cell_type": "code",
   "execution_count": null,
   "metadata": {},
   "outputs": [],
   "source": [
    "# update params dict\n",
    "target_city = \"Sydney Opera House\"\n",
    "\n",
    "params = {\n",
    "    \"text\": target_city,\n",
    "    \"apiKey\": geoapify_key\n",
    "}\n",
    "\n",
    "# Build URL using the geocode endpoint\n",
    "base_url = \"https://api.geoapify.com/v1/geocode/search\""
   ]
  },
  {
   "cell_type": "code",
   "execution_count": null,
   "metadata": {
    "scrolled": true,
    "tags": []
   },
   "outputs": [],
   "source": [
    "# Run request\n",
    "response = requests.get(base_url, params=params).json()\n",
    "\n",
    "# Print the json (pretty printed)\n",
    "print(json.dumps(response, indent=4, sort_keys=True))"
   ]
  },
  {
   "cell_type": "code",
   "execution_count": null,
   "metadata": {},
   "outputs": [],
   "source": [
    "# Extract lat/lon\n",
    "lat = response[\"features\"][0][\"properties\"][\"lat\"]\n",
    "lon = response[\"features\"][0][\"properties\"][\"lon\"]\n",
    "\n",
    "# Print results\n",
    "print(f\"{target_city}: {lat}, {lon}\")"
   ]
  },
  {
   "cell_type": "markdown",
   "metadata": {},
   "source": [
    "## 3. Find the name and address of a pharmacy in Brisbane, Australia.\n",
    "\n",
    "> **Hint:** Review <https://apidocs.geoapify.com/docs/places/#categories>."
   ]
  },
  {
   "cell_type": "code",
   "execution_count": null,
   "metadata": {},
   "outputs": [],
   "source": [
    "# Set the geographical coordinates for Brisbane, Australia\n",
    "latitude = -27.4705\n",
    "longitude = 153.0260\n",
    "\n",
    "# Set the parameters for the type of place\n",
    "categories = \"healthcare.pharmacy\"\n",
    "\n",
    "# Set the parameters for the type of search\n",
    "bias = f\"proximity:{longitude},{latitude}\"\n",
    "limit = 20\n",
    "\n",
    "# set up a parameters dictionary\n",
    "params = {\n",
    "    \"categories\":categories,\n",
    "    \"limit\":limit,\n",
    "    \"bias\":bias,\n",
    "    \"apiKey\":geoapify_key    \n",
    "}\n",
    "\n",
    "# Set base URL\n",
    "base_url = \"https://api.geoapify.com/v2/places\""
   ]
  },
  {
   "cell_type": "code",
   "execution_count": null,
   "metadata": {
    "scrolled": true,
    "tags": []
   },
   "outputs": [],
   "source": [
    "# Run request\n",
    "response = requests.get(base_url, params=params).json()\n",
    "\n",
    "# Print the json (pretty printed)\n",
    "print(json.dumps(response, indent=4, sort_keys=True))"
   ]
  },
  {
   "cell_type": "code",
   "execution_count": null,
   "metadata": {},
   "outputs": [],
   "source": [
    "# Print the results\n",
    "print(response[\"features\"][0][\"properties\"][\"name\"])\n",
    "print(response[\"features\"][0][\"properties\"][\"address_line2\"])"
   ]
  },
  {
   "cell_type": "markdown",
   "metadata": {},
   "source": [
    "## 4. Find a pet shop within a 5km radius from the Sydney Opera House."
   ]
  },
  {
   "cell_type": "code",
   "execution_count": null,
   "metadata": {},
   "outputs": [],
   "source": [
    "# Set the geographical coordinates for the Sydney Opera House\n",
    "latitude = -33.85729805\n",
    "longitude = 151.21512338473752\n",
    "\n",
    "# Set the parameters for the type of place\n",
    "categories = \"commercial.pet\"\n",
    "radius = 5000\n",
    "\n",
    "# Set the parameters for the type of search\n",
    "filters = f\"circle:{longitude},{latitude},{radius}\"\n",
    "bias = f\"proximity:{longitude},{latitude}\"\n",
    "limit = 20\n",
    "\n",
    "# set up a parameters dictionary\n",
    "params = {\n",
    "    \"categories\":categories,\n",
    "    \"limit\":limit,\n",
    "    \"filter\":filters,\n",
    "    \"bias\":bias,\n",
    "    \"apiKey\":geoapify_key    \n",
    "}\n",
    "\n",
    "# Set base URL\n",
    "base_url = \"https://api.geoapify.com/v2/places\""
   ]
  },
  {
   "cell_type": "code",
   "execution_count": null,
   "metadata": {
    "scrolled": true,
    "tags": []
   },
   "outputs": [],
   "source": [
    "# Run request\n",
    "response = requests.get(base_url, params=params).json()\n",
    "\n",
    "# Print the json (pretty printed)\n",
    "print(json.dumps(response, indent=4, sort_keys=True))"
   ]
  },
  {
   "cell_type": "code",
   "execution_count": null,
   "metadata": {},
   "outputs": [],
   "source": [
    "# Print the results\n",
    "print(response[\"features\"][0][\"properties\"][\"name\"])\n",
    "print(response[\"features\"][0][\"properties\"][\"address_line2\"])"
   ]
  },
  {
   "cell_type": "markdown",
   "metadata": {},
   "source": [
    "## 5. Find the nearest dentist to your house.\n",
    "\n",
    "> **Hint:** Use Geoapify Geocode to find your latitude and Geoapify Places to find the dentist."
   ]
  },
  {
   "cell_type": "code",
   "execution_count": null,
   "metadata": {},
   "outputs": [],
   "source": [
    "# Geoapify Geocode to find latitude and longitude\n",
    "my_address = \"1309 Hay St, West Perth WA 6005, Australia\"\n",
    "\n",
    "params = {\n",
    "    \"text\": my_address,\n",
    "    \"apiKey\": geoapify_key\n",
    "}\n",
    "\n",
    "# Build URL using the geocode endpoint\n",
    "base_url = \"https://api.geoapify.com/v1/geocode/search\""
   ]
  },
  {
   "cell_type": "code",
   "execution_count": null,
   "metadata": {
    "scrolled": true,
    "tags": []
   },
   "outputs": [],
   "source": [
    "# Run request\n",
    "response = requests.get(base_url, params=params).json()\n",
    "\n",
    "# Print the json (pretty printed)\n",
    "print(json.dumps(response, indent=4, sort_keys=True))"
   ]
  },
  {
   "cell_type": "code",
   "execution_count": null,
   "metadata": {},
   "outputs": [],
   "source": [
    "# Extract lat/lon\n",
    "lat = response[\"features\"][0][\"properties\"][\"lat\"]\n",
    "lon = response[\"features\"][0][\"properties\"][\"lon\"]\n",
    "\n",
    "# Print results\n",
    "print(f\"{my_address}: {lat}, {lon}\")"
   ]
  },
  {
   "cell_type": "code",
   "execution_count": null,
   "metadata": {},
   "outputs": [],
   "source": [
    "# Set the geographical coordinates for my home\n",
    "latitude = -31.9477365\n",
    "longitude = 115.8387213036199\n",
    "\n",
    "# Set the parameters for the type of place\n",
    "categories = \"healthcare.dentist\"\n",
    "\n",
    "# Set the parameters for the type of search\n",
    "bias = f\"proximity:{longitude},{latitude}\"\n",
    "limit = 20\n",
    "\n",
    "# set up a parameters dictionary\n",
    "params = {\n",
    "    \"categories\":categories,\n",
    "    \"limit\":limit,\n",
    "    \"bias\":bias,\n",
    "    \"apiKey\":geoapify_key    \n",
    "}\n",
    "\n",
    "# Set base URL\n",
    "base_url = \"https://api.geoapify.com/v2/places\""
   ]
  },
  {
   "cell_type": "code",
   "execution_count": null,
   "metadata": {
    "scrolled": true,
    "tags": []
   },
   "outputs": [],
   "source": [
    "# Run request\n",
    "response = requests.get(base_url, params=params).json()\n",
    "\n",
    "# Print the json (pretty printed)\n",
    "print(json.dumps(response, indent=4, sort_keys=True))"
   ]
  },
  {
   "cell_type": "code",
   "execution_count": null,
   "metadata": {},
   "outputs": [],
   "source": [
    "# Print the results\n",
    "print(response[\"features\"][0][\"properties\"][\"name\"])\n",
    "print(response[\"features\"][0][\"properties\"][\"address_line2\"])"
   ]
  },
  {
   "cell_type": "markdown",
   "metadata": {},
   "source": [
    "## 6. Bonus: Find the names and addresses of the five nearest restaurants with internet access in your home city area.\n",
    "\n",
    "> **Hint:** Read about the `proximity` bias to order the results from the nearest to the farest place. Also, read about the `conditions` to identify places that provide internet access."
   ]
  },
  {
   "cell_type": "code",
   "execution_count": null,
   "metadata": {},
   "outputs": [],
   "source": [
    "# Set the geographical coordinates for my home\n",
    "latitude = -31.9477365\n",
    "longitude = 115.8387213036199\n",
    "\n",
    "# Set the parameters for the type of place\n",
    "categories = \"catering.restaurant\"\n",
    "conditions = \"internet_access\"\n",
    "\n",
    "# Set the parameters for the type of search\n",
    "bias = f\"proximity:{longitude},{latitude}\"\n",
    "limit = 20\n",
    "\n",
    "# set up a parameters dictionary\n",
    "params = {\n",
    "    \"categories\":categories,\n",
    "    \"conditions\":conditions,\n",
    "    \"limit\":limit,\n",
    "    \"bias\":bias,\n",
    "    \"apiKey\":geoapify_key    \n",
    "}\n",
    "\n",
    "# Set base URL\n",
    "base_url = \"https://api.geoapify.com/v2/places\""
   ]
  },
  {
   "cell_type": "code",
   "execution_count": null,
   "metadata": {
    "scrolled": true,
    "tags": []
   },
   "outputs": [],
   "source": [
    "# Run request\n",
    "response = requests.get(base_url, params=params).json()\n",
    "\n",
    "# Print the json (pretty printed)\n",
    "print(json.dumps(response, indent=4, sort_keys=True))"
   ]
  },
  {
   "cell_type": "code",
   "execution_count": null,
   "metadata": {},
   "outputs": [],
   "source": [
    "# Print the results\n",
    "counter = 0\n",
    "\n",
    "for place in response[\"features\"]:\n",
    "    print(f\"Restaurant {counter+1}:\")\n",
    "    print(place[\"properties\"][\"name\"])\n",
    "    print(place[\"properties\"][\"address_line2\"])\n",
    "    print(\"*\"*20)\n",
    "    counter = counter + 1\n",
    "    if counter == 5:\n",
    "        break"
   ]
  },
  {
   "cell_type": "code",
   "execution_count": null,
   "metadata": {},
   "outputs": [],
   "source": []
  }
 ],
 "metadata": {
  "kernelspec": {
   "display_name": "Python 3 (ipykernel)",
   "language": "python",
   "name": "python3"
  },
  "language_info": {
   "codemirror_mode": {
    "name": "ipython",
    "version": 3
   },
   "file_extension": ".py",
   "mimetype": "text/x-python",
   "name": "python",
   "nbconvert_exporter": "python",
   "pygments_lexer": "ipython3",
   "version": "3.11.5"
  }
 },
 "nbformat": 4,
 "nbformat_minor": 4
}
